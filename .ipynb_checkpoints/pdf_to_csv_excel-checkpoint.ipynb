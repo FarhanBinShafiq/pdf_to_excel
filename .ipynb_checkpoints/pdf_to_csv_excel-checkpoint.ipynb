{
 "cells": [
  {
   "cell_type": "code",
   "execution_count": null,
   "id": "3edfd3b7-0f48-4cd0-abf1-1d4020b7586d",
   "metadata": {},
   "outputs": [],
   "source": [
    "import tabula\n",
    "import pandas as pd\n",
    "\n",
    "def pdf_to_csv_and_dataframe(pdf_file_path, csv_file_path):\n",
    "    # Read PDF into a list of DataFrames (one DataFrame per page)\n",
    "    dfs = tabula.read_pdf(pdf_file_path, pages='all')\n",
    "\n",
    "    # Assuming you want the first page DataFrame\n",
    "    df = dfs[0] if dfs else None  # Use the first page DataFrame if available, otherwise None\n",
    "\n",
    "    # Convert PDF into CSV\n",
    "    tabula.convert_into(pdf_file_path, csv_file_path, output_format=\"csv\", pages='all')\n",
    "\n",
    "    return df\n",
    "\n",
    "# Example usage\n",
    "pdf_file_path = \"April-2023.pdf\"\n",
    "csv_file_path = \"finalPdf.csv\"\n",
    "\n",
    "# Convert PDF to CSV and obtain the DataFrame\n",
    "df = pdf_to_csv_and_dataframe(pdf_file_path, csv_file_path)\n",
    "\n",
    "# Print the DataFrame if it's not None\n",
    "if df is not None:\n",
    "    print(df)\n"
   ]
  },
  {
   "cell_type": "code",
   "execution_count": null,
   "id": "1aabba51-00cf-4960-804e-33b0ccc61436",
   "metadata": {},
   "outputs": [],
   "source": []
  }
 ],
 "metadata": {
  "kernelspec": {
   "display_name": "Python 3 (ipykernel)",
   "language": "python",
   "name": "python3"
  },
  "language_info": {
   "codemirror_mode": {
    "name": "ipython",
    "version": 3
   },
   "file_extension": ".py",
   "mimetype": "text/x-python",
   "name": "python",
   "nbconvert_exporter": "python",
   "pygments_lexer": "ipython3",
   "version": "3.11.7"
  }
 },
 "nbformat": 4,
 "nbformat_minor": 5
}
