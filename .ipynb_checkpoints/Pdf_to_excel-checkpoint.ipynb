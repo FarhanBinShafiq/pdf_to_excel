{
 "cells": [
  {
   "cell_type": "code",
   "execution_count": 1,
   "id": "3406a728",
   "metadata": {},
   "outputs": [],
   "source": [
    "import tabula\n",
    "import pandas as pd\n",
    "import os\n",
    "import fitz  # PyMuPDF"
   ]
  },
  {
   "cell_type": "code",
   "execution_count": 12,
   "id": "5f4ac6d6",
   "metadata": {},
   "outputs": [
    {
     "data": {
      "text/plain": [
       "['.ipynb_checkpoints',\n",
       " 'April-2023.pdf',\n",
       " 'output.xlsx',\n",
       " 'outputs.xlsx',\n",
       " 'Untitled.ipynb',\n",
       " '~$output.xlsx']"
      ]
     },
     "execution_count": 12,
     "metadata": {},
     "output_type": "execute_result"
    }
   ],
   "source": [
    "os.listdir()"
   ]
  },
  {
   "cell_type": "markdown",
   "id": "f3283270",
   "metadata": {},
   "source": [
    "# One"
   ]
  },
  {
   "cell_type": "code",
   "execution_count": 6,
   "id": "43483d97",
   "metadata": {},
   "outputs": [],
   "source": [
    "def pdf_to_excel(pdf_file_path, excel_file_path):\n",
    "    # Read PDF file\n",
    "    tables = tabula.read_pdf(pdf_file_path, pages='all', multiple_tables=True)\n",
    "\n",
    "    # Write each table to a separate sheet in the Excel file\n",
    "    with pd.ExcelWriter(excel_file_path) as writer:\n",
    "        for i, table in enumerate(tables):\n",
    "            table.to_excel(writer, sheet_name=f'Sheet{i+1}', index=False)\n",
    "\n",
    "# Example usage\n",
    "pdf_file_path = \"April-2023.pdf\"\n",
    "excel_file_path = \"output.xlsx\"\n",
    "pdf_to_excel(pdf_file_path, excel_file_path)"
   ]
  },
  {
   "cell_type": "markdown",
   "id": "aa6d59d4",
   "metadata": {},
   "source": [
    "# Two"
   ]
  },
  {
   "cell_type": "code",
   "execution_count": 11,
   "id": "9831f46c",
   "metadata": {},
   "outputs": [],
   "source": [
    "\n",
    " \n",
    "\n",
    "def pdf_to_excel(pdf_file_path, excel_file_path):\n",
    "    # Open the PDF file\n",
    "    pdf_document = fitz.open(pdf_file_path)\n",
    "    \n",
    "    # Prepare a list to hold dataframes\n",
    "    tables = []\n",
    "\n",
    "    for page_num in range(len(pdf_document)):\n",
    "        page = pdf_document.load_page(page_num)\n",
    "        text = page.get_text(\"text\")\n",
    "        \n",
    "        # Process the text to create a dataframe\n",
    "        # Here we assume the text is tabular and can be split into rows and columns\n",
    "        # You may need to adjust this according to the structure of your PDF\n",
    "        rows = text.split('\\n')\n",
    "        data = [row.split() for row in rows]\n",
    "        df = pd.DataFrame(data)\n",
    "        tables.append(df)\n",
    "    \n",
    "    # Write dataframes to an Excel file\n",
    "    with pd.ExcelWriter(excel_file_path) as writer:\n",
    "        for i, table in enumerate(tables):\n",
    "            table.to_excel(writer, sheet_name=f'Sheet{i+1}', index=False)\n",
    "\n",
    "# Example usage\n",
    "pdf_file_path = \"April-2023.pdf\"\n",
    "excel_file_path = \"outputs.xlsx\"\n",
    "pdf_to_excel(pdf_file_path, excel_file_path)\n"
   ]
  },
  {
   "cell_type": "code",
   "execution_count": null,
   "id": "a8d3edc8",
   "metadata": {},
   "outputs": [],
   "source": []
  }
 ],
 "metadata": {
  "kernelspec": {
   "display_name": "Python 3 (ipykernel)",
   "language": "python",
   "name": "python3"
  },
  "language_info": {
   "codemirror_mode": {
    "name": "ipython",
    "version": 3
   },
   "file_extension": ".py",
   "mimetype": "text/x-python",
   "name": "python",
   "nbconvert_exporter": "python",
   "pygments_lexer": "ipython3",
   "version": "3.11.7"
  }
 },
 "nbformat": 4,
 "nbformat_minor": 5
}
