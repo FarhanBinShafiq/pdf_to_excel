{
 "cells": [
  {
   "cell_type": "code",
   "execution_count": 1,
   "id": "419a2a9f",
   "metadata": {},
   "outputs": [],
   "source": [
    "import tabula\n",
    "import pandas as pd\n",
    "import os\n",
    "import fitz  # PyMuPDF"
   ]
  },
  {
   "cell_type": "code",
   "execution_count": 2,
   "id": "5f5100d5",
   "metadata": {},
   "outputs": [
    {
     "data": {
      "text/plain": [
       "['.ipynb_checkpoints',\n",
       " 'April-2023.pdf',\n",
       " 'finalPdf.csv',\n",
       " 'output.xlsx',\n",
       " 'pdf_to_csv_excel.ipynb',\n",
       " 'Untitled.ipynb']"
      ]
     },
     "execution_count": 2,
     "metadata": {},
     "output_type": "execute_result"
    }
   ],
   "source": [
    "os.listdir()"
   ]
  },
  {
   "cell_type": "markdown",
   "id": "43e23bdc",
   "metadata": {},
   "source": [
    "# One"
   ]
  },
  {
   "cell_type": "code",
   "execution_count": 3,
   "id": "1ca87a83",
   "metadata": {},
   "outputs": [],
   "source": [
    "def pdf_to_excel(pdf_file_path, excel_file_path):\n",
    "    # Read PDF file\n",
    "    tables = tabula.read_pdf(pdf_file_path, pages='all', multiple_tables=True)\n",
    "\n",
    "    # Write each table to a separate sheet in the Excel file\n",
    "    with pd.ExcelWriter(excel_file_path) as writer:\n",
    "        for i, table in enumerate(tables):\n",
    "            table.to_excel(writer, sheet_name=f'Sheet{i+1}', index=False)\n",
    "\n",
    "# Example usage\n",
    "pdf_file_path = \"April-2023.pdf\"\n",
    "excel_file_path = \"output_1.xlsx\"\n",
    "pdf_to_excel(pdf_file_path, excel_file_path)"
   ]
  },
  {
   "cell_type": "markdown",
   "id": "af4e8e19",
   "metadata": {},
   "source": [
    "# Two"
   ]
  },
  {
   "cell_type": "code",
   "execution_count": 4,
   "id": "b8f792b0",
   "metadata": {},
   "outputs": [
    {
     "name": "stdout",
     "output_type": "stream",
     "text": [
      "    SI. No                                    I Section Title Page No\n",
      "0      1.0                                        MIS Summary       0\n",
      "1      2.0                                General Information     1-3\n",
      "2      NaN  (Lines & vill. electrified. System Loss, % Col...     NaN\n",
      "3      3.0                                   Service in Place    4-10\n",
      "4      NaN                              (Consumer Connection)     NaN\n",
      "5      4.0                                       MWH Consumed   11-16\n",
      "6      NaN                                       (This Month)     NaN\n",
      "7      5.0                                       MWH Consumed   17-22\n",
      "8      NaN                                              (YTD)     NaN\n",
      "9      6.0                              Financial Information   23-25\n",
      "10     7.0                                      Amount Billed   26-29\n",
      "11     NaN                                     • (This Month)     NaN\n",
      "12     8.0                                      Amount Billed   30-33\n"
     ]
    }
   ],
   "source": [
    "def pdf_to_csv_and_dataframe(pdf_file_path, csv_file_path):\n",
    "    # Read PDF into a list of DataFrames (one DataFrame per page)\n",
    "    dfs = tabula.read_pdf(pdf_file_path, pages='all')\n",
    "\n",
    "    # Assuming you want the first page DataFrame\n",
    "    df = dfs[0] if dfs else None  # Use the first page DataFrame if available, otherwise None\n",
    "\n",
    "    # Convert PDF into CSV\n",
    "    tabula.convert_into(pdf_file_path, csv_file_path, output_format=\"csv\", pages='all')\n",
    "\n",
    "    return df\n",
    "\n",
    "# Example usage\n",
    "pdf_file_path = \"April-2023.pdf\"\n",
    "csv_file_path = \"output_2.csv\"\n",
    "\n",
    "# Convert PDF to CSV and obtain the DataFrame\n",
    "df = pdf_to_csv_and_dataframe(pdf_file_path, csv_file_path)\n",
    "\n",
    "# Print the DataFrame if it's not None\n",
    "if df is not None:\n",
    "    print(df)"
   ]
  },
  {
   "cell_type": "code",
   "execution_count": 6,
   "id": "63711e91",
   "metadata": {},
   "outputs": [
    {
     "ename": "SyntaxError",
     "evalue": "invalid syntax (2830201818.py, line 1)",
     "output_type": "error",
     "traceback": [
      "\u001b[1;36m  Cell \u001b[1;32mIn[6], line 1\u001b[1;36m\u001b[0m\n\u001b[1;33m    git init\u001b[0m\n\u001b[1;37m        ^\u001b[0m\n\u001b[1;31mSyntaxError\u001b[0m\u001b[1;31m:\u001b[0m invalid syntax\n"
     ]
    }
   ],
   "source": [
    "git init"
   ]
  },
  {
   "cell_type": "code",
   "execution_count": null,
   "id": "3f6ea04b",
   "metadata": {},
   "outputs": [],
   "source": []
  }
 ],
 "metadata": {
  "kernelspec": {
   "display_name": "Python 3 (ipykernel)",
   "language": "python",
   "name": "python3"
  },
  "language_info": {
   "codemirror_mode": {
    "name": "ipython",
    "version": 3
   },
   "file_extension": ".py",
   "mimetype": "text/x-python",
   "name": "python",
   "nbconvert_exporter": "python",
   "pygments_lexer": "ipython3",
   "version": "3.11.7"
  }
 },
 "nbformat": 4,
 "nbformat_minor": 5
}
